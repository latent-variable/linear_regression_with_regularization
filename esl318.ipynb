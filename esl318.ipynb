{
 "cells": [
  {
   "cell_type": "code",
   "execution_count": 2,
   "metadata": {},
   "outputs": [
    {
     "data": {
      "text/plain": [
       "[<matplotlib.lines.Line2D at 0x7f13b7a85cf8>]"
      ]
     },
     "execution_count": 2,
     "metadata": {},
     "output_type": "execute_result"
    },
    {
     "data": {
      "image/png": "[encoded data removed]",
      "text/plain": [
       "<Figure size 432x288 with 1 Axes>"
      ]
     },
     "metadata": {
      "needs_background": "light"
     },
     "output_type": "display_data"
    }
   ],
   "source": [
    "# code to reproduce figure 3.18 from ESL\n",
    "import numpy as np\n",
    "import scipy.linalg as la\n",
    "import matplotlib.pyplot as plt\n",
    "import sklearn.linear_model as lm\n",
    "\n",
    "def solvells(X,Y):\n",
    "    m = lm.LinearRegression(fit_intercept=False).fit(X,Y)\n",
    "    return m.coef_\n",
    "\n",
    "def solvelasso(X,Y,lmbda):\n",
    "    m = lm.Lasso(alpha=lmbda,fit_intercept=False).fit(X,Y)\n",
    "    return m.coef_\n",
    "\n",
    "def solveridge(X,Y,lmbda):\n",
    "    m = lm.Ridge(alpha=lmbda,fit_intercept=False).fit(X,Y)\n",
    "    return m.coef_\n",
    "\n",
    "wstar = np.array([4,2])\n",
    "rho = .5\n",
    "X = la.sqrtm(np.array([[1,rho],[rho,1]])) # find \"dataset X\" that leads to this correlation\n",
    "Y = X@wstar # find \"dataset Y\" that leads to the desired w\n",
    "\n",
    "ridgel = np.logspace(-2,3,100)\n",
    "lassol = np.logspace(-2,1,100)\n",
    "\n",
    "wlls = solvells(X,Y)\n",
    "lassows = np.zeros((lassol.shape[0],2))\n",
    "ridgews = np.zeros((ridgel.shape[0],2))\n",
    "\n",
    "for i,l in enumerate(ridgel):\n",
    "    ridgews[i,:] = solveridge(X,Y,l)\n",
    "    \n",
    "for i,l in enumerate(lassol):\n",
    "    a = solvelasso(X,Y,l)\n",
    "    #print(a)\n",
    "    lassows[i,:] = a\n",
    "    \n",
    "plt.plot(wlls[0],wlls[1],'ko')\n",
    "plt.plot(ridgews[:,0],ridgews[:,1],'r-')\n",
    "plt.plot(lassows[:,0],lassows[:,1],'g-')\n",
    "    "
   ]
  },
  {
   "cell_type": "code",
   "execution_count": null,
   "metadata": {},
   "outputs": [],
   "source": []
  },
  {
   "cell_type": "code",
   "execution_count": null,
   "metadata": {},
   "outputs": [],
   "source": []
  }
 ],
 "metadata": {
  "kernelspec": {
   "display_name": "CS 229 Python",
   "language": "python",
   "name": "cs229-cpu-limitation"
  },
  "language_info": {
   "codemirror_mode": {
    "name": "ipython",
    "version": 3
   },
   "file_extension": ".py",
   "mimetype": "text/x-python",
   "name": "python",
   "nbconvert_exporter": "python",
   "pygments_lexer": "ipython3",
   "version": "3.6.6"
  }
 },
 "nbformat": 4,
 "nbformat_minor": 2
}
